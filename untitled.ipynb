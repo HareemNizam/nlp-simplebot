{
  "nbformat": 4,
  "nbformat_minor": 0,
  "metadata": {
    "colab": {
      "provenance": [],
      "authorship_tag": "ABX9TyOeqU+WjsyEsOJDHl0Y9Llw",
      "include_colab_link": true
    },
    "kernelspec": {
      "name": "python3",
      "display_name": "Python 3"
    },
    "language_info": {
      "name": "python"
    }
  },
  "cells": [
    {
      "cell_type": "markdown",
      "metadata": {
        "id": "view-in-github",
        "colab_type": "text"
      },
      "source": [
        "<a href=\"https://colab.research.google.com/github/HareemNizam/nlp-simplebot/blob/master/untitled.ipynb\" target=\"_parent\"><img src=\"https://colab.research.google.com/assets/colab-badge.svg\" alt=\"Open In Colab\"/></a>"
      ]
    },
    {
      "cell_type": "markdown",
      "source": [
        "# Data Science Tools and Ecosystem\n"
      ],
      "metadata": {
        "id": "2yod3l2ICufB"
      }
    },
    {
      "cell_type": "markdown",
      "source": [
        "In this notebook, Data Science Tools and Ecosystem are summarized.\n"
      ],
      "metadata": {
        "id": "nCinwqiAC7QK"
      }
    },
    {
      "cell_type": "markdown",
      "source": [
        "Some of the popular languages that Data Scientists use are:\n",
        "\n",
        "1. Python\n",
        "2. R\n",
        "3. Julia"
      ],
      "metadata": {
        "id": "q-5yf1thDPzR"
      }
    },
    {
      "cell_type": "markdown",
      "source": [
        "Some of the commonly used libraries used by Data Scientists include:\n",
        "\n",
        "1. Pandas\n",
        "2. NumPy\n",
        "3. Matplotlib\n"
      ],
      "metadata": {
        "id": "k_XJ5kTxDT0P"
      }
    },
    {
      "cell_type": "markdown",
      "source": [
        "| Data Science Tools |\n",
        "|--------------------|\n",
        "| Jupyter Notebook   |\n",
        "| RStudio            |\n",
        "| Visual Studio Code |\n"
      ],
      "metadata": {
        "id": "Q_FlfksLD1TC"
      }
    },
    {
      "cell_type": "markdown",
      "source": [
        "### Arithmetic Expression Examples\n",
        "In this section, we will explore various arithmetic expressions and calculations.\n"
      ],
      "metadata": {
        "id": "Ivbz4RfOEF0i"
      }
    },
    {
      "cell_type": "code",
      "source": [
        "# This is a simple arithmetic expression to multiply then add integers.\n",
        "result = (3 * 4) + 5\n",
        "result"
      ],
      "metadata": {
        "colab": {
          "base_uri": "https://localhost:8080/"
        },
        "id": "e7mtY4KoEGyi",
        "outputId": "b44700f4-f5ce-4217-b732-58e08a7b2d84"
      },
      "execution_count": 4,
      "outputs": [
        {
          "output_type": "execute_result",
          "data": {
            "text/plain": [
              "17"
            ]
          },
          "metadata": {},
          "execution_count": 4
        }
      ]
    },
    {
      "cell_type": "code",
      "source": [
        "# This will convert 200 minutes to hours by dividing by 60.\n",
        "minutes = 200\n",
        "hours = minutes / 60\n",
        "hours"
      ],
      "metadata": {
        "colab": {
          "base_uri": "https://localhost:8080/"
        },
        "id": "QqDGN7k2EgHf",
        "outputId": "0d13b78f-8a4d-4a95-ab35-17bb9568a7e6"
      },
      "execution_count": 5,
      "outputs": [
        {
          "output_type": "execute_result",
          "data": {
            "text/plain": [
              "3.3333333333333335"
            ]
          },
          "metadata": {},
          "execution_count": 5
        }
      ]
    },
    {
      "cell_type": "markdown",
      "source": [
        "**Objectives:**\n",
        "\n",
        "- List popular languages for Data Science.\n",
        "- Introduce commonly used libraries in Data Science.\n",
        "- Explore development environment open source tools.\n",
        "- Demonstrate arithmetic expression examples.\n",
        "- Convert minutes to hours.\n"
      ],
      "metadata": {
        "id": "yyzNO_Y_E59C"
      }
    },
    {
      "cell_type": "code",
      "source": [],
      "metadata": {
        "id": "wZ812oPuE7o6"
      },
      "execution_count": null,
      "outputs": []
    },
    {
      "cell_type": "markdown",
      "source": [
        "## Author\n",
        "Your Name (Hareem Nizam)\n"
      ],
      "metadata": {
        "id": "0Mp7HVKGFVhD"
      }
    },
    {
      "cell_type": "code",
      "source": [],
      "metadata": {
        "id": "0GHM5Y1wFbbR"
      },
      "execution_count": null,
      "outputs": []
    }
  ]
}